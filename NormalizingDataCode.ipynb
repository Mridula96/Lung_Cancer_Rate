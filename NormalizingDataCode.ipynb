{
 "cells": [
  {
   "cell_type": "code",
   "execution_count": null,
   "id": "5237a8b6",
   "metadata": {},
   "outputs": [
    {
     "name": "stdout",
     "output_type": "stream",
     "text": [
      "Original Data:\n",
      "       FIPS    County   Latitude   Longitude    Income  Insurance  PM 2.5  \\\n",
      "0      1001   Autauga  32.535142  -86.642900   83790.0       91.8    10.0   \n",
      "1      1003   Baldwin  30.727825  -87.722745   89953.0       89.8     7.6   \n",
      "2      1005   Barbour  31.870090  -85.391068   55672.0       87.9     9.4   \n",
      "3      1007      Bibb  32.998376  -87.126814   70064.0       89.2     9.8   \n",
      "4      1009    Blount  33.980871  -86.567006   73528.0       87.5     9.6   \n",
      "...     ...       ...        ...         ...       ...        ...     ...   \n",
      "3138  56039     Teton  43.934564 -110.589698  125325.0       84.8     3.6   \n",
      "3139  56041     Uinta  41.287497 -110.547405   91003.0       86.3     5.3   \n",
      "3140  56043  Washakie  43.904378 -107.682315   77273.0       85.0     3.5   \n",
      "3141  56045    Weston  43.840315 -104.567404   77656.0       85.4     3.2   \n",
      "3142  72001  Adjuntas  18.179659  -66.753516   29240.0        NaN     NaN   \n",
      "\n",
      "      Poverty  Smoking LungCancerRate  \n",
      "0         8.3     15.9           61.6  \n",
      "1         7.0     17.7           58.2  \n",
      "2        20.8     18.9           65.8  \n",
      "3        16.3     21.4           77.1  \n",
      "4        10.2     21.0             65  \n",
      "...       ...      ...            ...  \n",
      "3138      3.8      9.7           20.5  \n",
      "3139      2.6     14.8           24.3  \n",
      "3140      3.3     17.7           34.7  \n",
      "3141     14.9     17.6           63.3  \n",
      "3142     38.8     17.6           15.1  \n",
      "\n",
      "[3143 rows x 10 columns]\n",
      "Data normalization complete. Normalized data saved to: normalized_data.xlsx\n"
     ]
    }
   ],
   "source": [
    "import pandas as pd\n",
    "from sklearn.preprocessing import MinMaxScaler\n",
    "\n",
    "# Specify the path to the input and output files\n",
    "output_file_path = 'normalized_data.xlsx'  # Change this to your desired output file path\n",
    "\n",
    "# Load the data\n",
    "data = pd.read_excel('Dataset_Before_Normalizing.xlsx')\n",
    "\n",
    "# Display the original data for reference\n",
    "print(\"Original Data:\")\n",
    "print(data)\n",
    "\n",
    "data.replace('*', pd.NA, inplace=True)\n",
    "\n",
    "# Select the columns to normalize\n",
    "columns_to_normalize = ['Income', 'Insurance', 'PM 2.5', 'Poverty', 'Smoking','LungCancerRate']\n",
    "\n",
    "\n",
    "data[columns_to_normalize] = data[columns_to_normalize].apply(pd.to_numeric, errors='coerce')\n",
    "\n",
    "for column in columns_to_normalize:\n",
    "    mean_value = data[column].mean()\n",
    "    data[column].fillna(mean_value, inplace=True)\n",
    "\n",
    "# Initialize the MinMaxScaler\n",
    "scaler = MinMaxScaler()\n",
    "\n",
    "# Normalize the selected columns\n",
    "data[columns_to_normalize] = scaler.fit_transform(data[columns_to_normalize])\n",
    "\n",
    "# Save the normalized data to an Excel file\n",
    "data.to_excel('Normalized_Data.xlsx', index=False)\n",
    "\n",
    "print(\"Data normalization complete. Normalized data saved to:\", output_file_path)"
   ]
  },
  {
   "cell_type": "code",
   "execution_count": null,
   "id": "4340225f",
   "metadata": {},
   "outputs": [],
   "source": []
  },
  {
   "cell_type": "code",
   "execution_count": null,
   "id": "4b616de6",
   "metadata": {},
   "outputs": [],
   "source": []
  }
 ],
 "metadata": {
  "kernelspec": {
   "display_name": "Python 3 (ipykernel)",
   "language": "python",
   "name": "python3"
  },
  "language_info": {
   "codemirror_mode": {
    "name": "ipython",
    "version": 3
   },
   "file_extension": ".py",
   "mimetype": "text/x-python",
   "name": "python",
   "nbconvert_exporter": "python",
   "pygments_lexer": "ipython3",
   "version": "3.11.5"
  }
 },
 "nbformat": 4,
 "nbformat_minor": 5
}
